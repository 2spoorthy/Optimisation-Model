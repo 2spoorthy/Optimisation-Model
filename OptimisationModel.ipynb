{
  "nbformat": 4,
  "nbformat_minor": 0,
  "metadata": {
    "colab": {
      "provenance": [],
      "authorship_tag": "ABX9TyOHfgIU8ctEAU7PnWCVBu6A",
      "include_colab_link": true
    },
    "kernelspec": {
      "name": "python3",
      "display_name": "Python 3"
    },
    "language_info": {
      "name": "python"
    }
  },
  "cells": [
    {
      "cell_type": "markdown",
      "metadata": {
        "id": "view-in-github",
        "colab_type": "text"
      },
      "source": [
        "<a href=\"https://colab.research.google.com/github/2spoorthy/Optimisation-Model/blob/main/OptimisationModel.ipynb\" target=\"_parent\"><img src=\"https://colab.research.google.com/assets/colab-badge.svg\" alt=\"Open In Colab\"/></a>"
      ]
    },
    {
      "cell_type": "code",
      "source": [
        "!pip install pulp"
      ],
      "metadata": {
        "colab": {
          "base_uri": "https://localhost:8080/"
        },
        "id": "h3RDEqm0yARZ",
        "outputId": "4a526b2f-8115-4585-9bb2-35bd0db6420b"
      },
      "execution_count": null,
      "outputs": [
        {
          "output_type": "stream",
          "name": "stdout",
          "text": [
            "Collecting pulp\n",
            "  Downloading PuLP-3.0.2-py3-none-any.whl.metadata (6.7 kB)\n",
            "Downloading PuLP-3.0.2-py3-none-any.whl (17.7 MB)\n",
            "\u001b[2K   \u001b[90m━━━━━━━━━━━━━━━━━━━━━━━━━━━━━━━━━━━━━━━━\u001b[0m \u001b[32m17.7/17.7 MB\u001b[0m \u001b[31m52.9 MB/s\u001b[0m eta \u001b[36m0:00:00\u001b[0m\n",
            "\u001b[?25hInstalling collected packages: pulp\n",
            "Successfully installed pulp-3.0.2\n"
          ]
        }
      ]
    },
    {
      "cell_type": "code",
      "execution_count": null,
      "metadata": {
        "id": "7MqpF2whvobw"
      },
      "outputs": [],
      "source": [
        "from pulp import LpMaximize, LpProblem, LpVariable, lpSum\n",
        "import pandas as pd"
      ]
    },
    {
      "cell_type": "code",
      "source": [
        "# Step 1: Define the Business Problem\n",
        "# A company produces two products (A and B) with limited resources.\n",
        "# Maximize profit given constraints on raw materials and production capacity."
      ],
      "metadata": {
        "id": "oIxnA7dpyfz4"
      },
      "execution_count": null,
      "outputs": []
    },
    {
      "cell_type": "code",
      "source": [
        "# Step 2: Define the Decision Variables\n",
        "x_A = LpVariable(\"Product_A\", lowBound=0, cat='Continuous')  # Units of Product A\n",
        "x_B = LpVariable(\"Product_B\", lowBound=0, cat='Continuous')  # Units of Product B"
      ],
      "metadata": {
        "id": "BA1AneE9x2MD"
      },
      "execution_count": null,
      "outputs": []
    },
    {
      "cell_type": "code",
      "source": [
        "# Step 3: Define the Optimization Problem\n",
        "model = LpProblem(\"Maximize_Profit\", LpMaximize)\n",
        "\n",
        "# Objective Function: Maximize profit (Profit per unit: A = $40, B = $30)\n",
        "model += 40 * x_A + 30 * x_B, \"Total_Profit\"\n",
        "\n",
        "# Constraints:\n",
        "# 1. Material Availability: Material constraint (A uses 2 units, B uses 1 unit, max available = 100)\n",
        "model += 2 * x_A + x_B <= 100, \"Material_Constraint\"\n",
        "\n",
        "# 2. Production Time Constraint (A takes 3 hours, B takes 2 hours, max available = 120)\n",
        "model += 3 * x_A + 2 * x_B <= 120, \"Time_Constraint\""
      ],
      "metadata": {
        "id": "myTT-F6Tx94s"
      },
      "execution_count": null,
      "outputs": []
    },
    {
      "cell_type": "code",
      "source": [
        "# Step 4: Solve the Optimization Problem\n",
        "model.solve()"
      ],
      "metadata": {
        "colab": {
          "base_uri": "https://localhost:8080/"
        },
        "id": "cRKpvbssyJo-",
        "outputId": "e7c878dd-b84a-4864-9c3f-de34a3efcca7"
      },
      "execution_count": null,
      "outputs": [
        {
          "output_type": "execute_result",
          "data": {
            "text/plain": [
              "1"
            ]
          },
          "metadata": {},
          "execution_count": 15
        }
      ]
    },
    {
      "cell_type": "code",
      "source": [
        "# Step 5: Display Results\n",
        "results = {\n",
        "    \"Variable\": [\"Product_A\", \"Product_B\"],\n",
        "    \"Optimal Value\": [x_A.varValue, x_B.varValue]\n",
        "}\n",
        "results_df = pd.DataFrame(results)\n",
        "print(\"Optimal Production Quantities:\\n\", results_df)\n",
        "\n",
        "print(f\"\\nMaximum Profit: ${model.objective.value():.2f}\")"
      ],
      "metadata": {
        "colab": {
          "base_uri": "https://localhost:8080/"
        },
        "id": "hlI1AD-NyNZR",
        "outputId": "caf02703-5f63-4650-9c59-3e3ac9feeae0"
      },
      "execution_count": null,
      "outputs": [
        {
          "output_type": "stream",
          "name": "stdout",
          "text": [
            "Optimal Production Quantities:\n",
            "     Variable  Optimal Value\n",
            "0  Product_A            0.0\n",
            "1  Product_B           60.0\n",
            "\n",
            "Maximum Profit: $1800.00\n"
          ]
        }
      ]
    },
    {
      "cell_type": "code",
      "source": [
        "# Step 6: Provide Insights\n",
        "if x_A.varValue and x_B.varValue:\n",
        "    print(\"\\nBusiness Insights:\")\n",
        "    print(\"- The optimal solution suggests producing {:.0f} units of Product A and {:.0f} units of Product B.\".format(x_A.varValue, x_B.varValue))\n",
        "    print(\"- This solution maximizes profit while adhering to resource constraints.\")"
      ],
      "metadata": {
        "id": "bPwUeONFyRg7"
      },
      "execution_count": null,
      "outputs": []
    }
  ]
}